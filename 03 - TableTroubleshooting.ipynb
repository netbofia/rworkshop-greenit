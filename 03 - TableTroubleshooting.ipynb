{
 "cells": [
  {
   "cell_type": "markdown",
   "metadata": {},
   "source": [
    "# Import tables"
   ]
  },
  {
   "cell_type": "markdown",
   "metadata": {},
   "source": [
    "Importing tables to R can cause many \"headaches\", particularly if the original tables have irregular formats or missing data.   "
   ]
  },
  {
   "cell_type": "markdown",
   "metadata": {},
   "source": [
    "### example1: ghost columns"
   ]
  },
  {
   "cell_type": "code",
   "execution_count": null,
   "metadata": {},
   "outputs": [],
   "source": [
    "setwd('/home/jovyan/work/data/table_troubleshooting/')\n",
    "\n",
    "data <- read.csv(\"root_length_v1.csv\",sep=\";\",dec=\",\")\n",
    "head(data)\n",
    "colnames(data)\n",
    "\n",
    "# Where does the new column came from? \n",
    "# How to remove extra column?\n",
    "    ## - open and edit in excel or editor\n",
    "    ## - remove last column\n"
   ]
  },
  {
   "cell_type": "markdown",
   "metadata": {},
   "source": [
    "\"Ghost\" columns can be caused by cells that contain spaces, which are included in the csv or txt as active cells, even though they are empty of 'human readable information'.\n",
    "If this happens, one can delete these rows in R or edit the original file"
   ]
  },
  {
   "cell_type": "markdown",
   "metadata": {},
   "source": [
    "### example 2: ghost rows "
   ]
  },
  {
   "cell_type": "code",
   "execution_count": null,
   "metadata": {},
   "outputs": [],
   "source": [
    "data2 <- read.csv2(\"root_length_v2.csv\", dec=\",\")\n",
    "head(data2)\n",
    "\n",
    "summary(data2)\n",
    "\n",
    "data2[ is.na(data2$length.cm..1), ]\n",
    "\n",
    "#?is.na\n",
    "# Where does the extra row came from? \n",
    "# open excel, open in text editor, or remove last line\n",
    "\n"
   ]
  },
  {
   "cell_type": "markdown",
   "metadata": {},
   "source": [
    "\"Ghost rows\" occur for the same reason as \"ghost columns\". "
   ]
  },
  {
   "cell_type": "markdown",
   "metadata": {},
   "source": [
    "### example 3: when missing data is a real thing"
   ]
  },
  {
   "cell_type": "code",
   "execution_count": null,
   "metadata": {},
   "outputs": [],
   "source": [
    "### In many experiments one may end up with missing data\n",
    "\n",
    "data3 <- read.csv2(\"root_length_v3.csv\", dec=\",\")\n",
    "summary(data3)\n",
    "\n",
    "# find where is the missing data\n",
    "data3[ is.na(data3$Lat_roots), ]\n",
    "\n"
   ]
  },
  {
   "cell_type": "code",
   "execution_count": null,
   "metadata": {},
   "outputs": [],
   "source": [
    "### one can still need to to calculations without removing the whole line\n",
    "\n",
    "# calculate the mean length\n",
    "data3$length_mean <- rowMeans(data3[,3:5])\n",
    "head(data)\n",
    "\n",
    "#calculate lateral root density\n",
    "data3$LatRootDensity <- data3$Lat_roots / data3$length_mean\n",
    "head(data)"
   ]
  },
  {
   "cell_type": "code",
   "execution_count": null,
   "metadata": {},
   "outputs": [],
   "source": [
    "# Calculate mean lateral root density from col-0 and K9 and save it in a vector\n",
    "K9mean<- mean(data3[data3$line == \"K9\",\"LatRootDensity\"])\n",
    "print(paste(\"mean lateral root density for K9 line is: \", K9mean))\n",
    "WTmean <- mean(data3[data3$line == \"Col-0\",\"LatRootDensity\"])\n",
    "print(paste(\"mean lateral root density for K9 line is: \", WTmean))\n",
    "\n"
   ]
  },
  {
   "cell_type": "markdown",
   "metadata": {},
   "source": [
    "Missing data cannot be used to perform calculations and sometimes needs to be removed.\n",
    "Most functions dealing with calculations have a 'na.rm' argument which can be set to TRUE\n"
   ]
  },
  {
   "cell_type": "code",
   "execution_count": null,
   "metadata": {},
   "outputs": [],
   "source": [
    "WTmean <- mean(data3[data3$line == \"Col-0\",\"LatRootDensity\"], na.rm = TRUE) \n",
    "print(paste(\"mean lateral root density for K9 line is: \", WTmean))"
   ]
  },
  {
   "cell_type": "markdown",
   "metadata": {},
   "source": [
    "### > Extra tip"
   ]
  },
  {
   "cell_type": "markdown",
   "metadata": {},
   "source": [
    "Avoid complex formating options such as \"merged\" cells in excel tables when importing to R"
   ]
  },
  {
   "cell_type": "code",
   "execution_count": null,
   "metadata": {},
   "outputs": [],
   "source": [
    "data4 <- read.csv2(\"root_length_v4.csv\", dec=\".\")\n",
    "head(data4)\n",
    "summary(data4)\n"
   ]
  },
  {
   "cell_type": "code",
   "execution_count": null,
   "metadata": {},
   "outputs": [],
   "source": [
    "# column line from data4 contains 3 levels because most \"merged\" cells are identified as empty\n",
    "# this may cause problems, for example to draw plots\n",
    "\n",
    "boxplot(Lat_roots~line, data=data4, main=\"Lateral Roots\", xlab=\"Line\", ylab=\"Root length (cm)\")"
   ]
  },
  {
   "cell_type": "code",
   "execution_count": null,
   "metadata": {},
   "outputs": [],
   "source": [
    "data3 <- read.csv2(\"root_length_v3.csv\", dec=\",\")\n",
    "head(data3)\n",
    "summary(data3)\n",
    "\n",
    "# in data3, column \"line\" has repeated values, identifying each row to the corresponding line\n",
    "\n",
    "boxplot(Lat_roots~line, data=data3, main=\"Lateral Roots\", xlab=\"Line\", ylab=\"Root length (cm)\")"
   ]
  },
  {
   "cell_type": "markdown",
   "metadata": {},
   "source": [
    "### example 4: separators are important"
   ]
  },
  {
   "cell_type": "code",
   "execution_count": null,
   "metadata": {},
   "outputs": [],
   "source": [
    "# \"DEG.stats_v1.txt\" is a tab separated file\n",
    "data1 = read.table(\"DEG.stats_v1.txt\")\n",
    "head(data1)\n",
    "print(\"some row names: \")\n",
    "head(rownames(data1))\n",
    "print(\"column names: \")\n",
    "colnames(data1)\n",
    "\n",
    "# apparently, read.table() works well without using the default separator argument (sep = '')... however"
   ]
  },
  {
   "cell_type": "code",
   "execution_count": null,
   "metadata": {},
   "outputs": [],
   "source": [
    "data2 = read.table(\"DEG.stats_v2.txt\")\n",
    "head(data2)\n",
    "print(\"some row names: \")\n",
    "head(rownames(data2))\n",
    "print(\"column names: \")\n",
    "colnames(data2)\n",
    "\n",
    "# What's happening in data2?\n",
    "# How can this be solved?\n"
   ]
  },
  {
   "cell_type": "code",
   "execution_count": null,
   "metadata": {},
   "outputs": [],
   "source": [
    "# column name 'P value' is separated by a space, which is also taken by read.table() as a separator\n",
    "# in this particular case it affects importation, unless you clearly define the column separator\n",
    "\n",
    "#two options \n",
    "data2 = read.table(\"DEG.stats_v2.txt\", sep = \"\\t\")\n",
    "data2 = read.delim(\"DEG.stats_v2.txt\") # read.delim() has sep = \"\\t\" has a default argument \n",
    "head(data2)"
   ]
  },
  {
   "cell_type": "code",
   "execution_count": null,
   "metadata": {
    "scrolled": true
   },
   "outputs": [],
   "source": [
    "# challenge\n",
    "\n",
    "data3 = read.table(\"DEG.stats_v3.txt\", sep = \"\\t\")\n",
    "head(data3)\n",
    "data3 = read.delim(\"DEG.stats_v3.txt\")\n",
    "head(data3)\n",
    "\n",
    "# What's happening in data3?\n",
    "# How can this be solved?"
   ]
  },
  {
   "cell_type": "markdown",
   "metadata": {},
   "source": [
    "Column separators are very important and should be always considered not only for importing, but also for exporting tables "
   ]
  },
  {
   "cell_type": "markdown",
   "metadata": {},
   "source": [
    "**write.table**(x, file = \"\", append = FALSE, quote = TRUE, **sep = \" \"**,...)\n",
    "            \n",
    "In the generic write.table() function, the default separator is \" \" (a space). This may cause many reading problems in exported tables. \n",
    "\n",
    "It's important to define a clear separator such as:\n",
    "\n",
    "    \";\" or \",\" write.csv() or write.csv2() have this options as default\n",
    "    \n",
    "    \"\\t\" tab-separated [example: write.table(table1, file = \"table1.txt\", sep = \"\\t\", quote = FALSE)]"
   ]
  },
  {
   "cell_type": "code",
   "execution_count": null,
   "metadata": {},
   "outputs": [],
   "source": []
  }
 ],
 "metadata": {
  "kernelspec": {
   "display_name": "R",
   "language": "R",
   "name": "ir"
  },
  "language_info": {
   "codemirror_mode": "r",
   "file_extension": ".r",
   "mimetype": "text/x-r-source",
   "name": "R",
   "pygments_lexer": "r",
   "version": "3.4.1"
  }
 },
 "nbformat": 4,
 "nbformat_minor": 2
}
