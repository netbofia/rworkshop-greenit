{
 "cells": [
  {
   "cell_type": "markdown",
   "metadata": {},
   "source": [
    "# 1. Generate automatically the following vectors/matrix/lists:\n",
    "tips: help(rep); help(seq)\n",
    " - (1,1,1,1,1,1,1,2,2,2,2,2,2)\n",
    " - ((1,1,1),(2,2,2),(3,3,3))\n",
    " - (1,3,5,7,9)\n",
    " - (A,B,A,B,A,B,A,B)\n",
    " - (7,6,5,4,3,2,1)"
   ]
  },
  {
   "cell_type": "code",
   "execution_count": null,
   "metadata": {},
   "outputs": [],
   "source": []
  },
  {
   "cell_type": "markdown",
   "metadata": {},
   "source": [
    "# 2. Generate normal random samples x1, x2 with size 50 each. \n",
    "- x1 with mean 170 and sd 20 (N(170,20)), and \n",
    "- x2 N(160,20)). \n",
    "## Draw the histogram of each.\n",
    "tip: help(rnorm); help(hist)"
   ]
  },
  {
   "cell_type": "code",
   "execution_count": null,
   "metadata": {},
   "outputs": [],
   "source": []
  },
  {
   "cell_type": "markdown",
   "metadata": {},
   "source": [
    "# 3. Generate random data so you can build a data frame with 40 entries with the following data for each entry: \n",
    " - gender male or female with 50% chance, \n",
    " - height (N(170,15) for males, N(165,18) for females.\n",
    " - Then select the bottom 25% of males by height.\n",
    " - Also select the second tallest woman.\n",
    "\n",
    "tip: help(sample); help(quantile)"
   ]
  },
  {
   "cell_type": "code",
   "execution_count": null,
   "metadata": {},
   "outputs": [],
   "source": []
  },
  {
   "cell_type": "markdown",
   "metadata": {},
   "source": [
    "# 4. Generate a function that given the edge of a cube of length x will output the area and volume of the cube. \n",
    "\n",
    "tip: help(function)"
   ]
  },
  {
   "cell_type": "code",
   "execution_count": null,
   "metadata": {},
   "outputs": [],
   "source": []
  }
 ],
 "metadata": {
  "kernelspec": {
   "display_name": "R",
   "language": "R",
   "name": "ir"
  },
  "language_info": {
   "codemirror_mode": "r",
   "file_extension": ".r",
   "mimetype": "text/x-r-source",
   "name": "R",
   "pygments_lexer": "r",
   "version": "3.4.1"
  }
 },
 "nbformat": 4,
 "nbformat_minor": 2
}
