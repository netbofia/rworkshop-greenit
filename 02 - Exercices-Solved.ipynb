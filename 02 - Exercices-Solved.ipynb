{
 "cells": [
  {
   "cell_type": "markdown",
   "metadata": {},
   "source": [
    "### Dependencies\n",
    "Don't forget to run these dependencies "
   ]
  },
  {
   "cell_type": "code",
   "execution_count": null,
   "metadata": {},
   "outputs": [],
   "source": [
    "data<-read.table(\"data/root_length.csv\",sep=\";\",dec=\",\",header=TRUE)\n",
    "data$length_mean <- rowMeans(data[,2:4])"
   ]
  },
  {
   "cell_type": "markdown",
   "metadata": {},
   "source": [
    "# 1. Create a new column(lat_roots_factorized) with the factors \"CLOSE_TO_NONE\", \"SLIGHTLY\", \"SO_SO\", \"SOME_WHAT\", \"MOSTLY\" applied to the number of lateral roots. "
   ]
  },
  {
   "cell_type": "code",
   "execution_count": null,
   "metadata": {},
   "outputs": [],
   "source": [
    "LABELS=c(\"CLOSE_TO_NONE\", \"SLIGHTLY\", \"SO_SO\", \"SOME_WHAT\", \"MOSTLY\")\n",
    "#Choose one breaks (Comment the one you don't want to use)\n",
    "BREAKS=5 #Random breaks\n",
    "BREAKS=c(0,3,5,8,10,25) #Specific breaks\n",
    "\n",
    "data$lat_roots_factorized<-cut(data$Lat_roots,BREAKS,LABELS)\n",
    "head(data)"
   ]
  },
  {
   "cell_type": "markdown",
   "metadata": {},
   "source": [
    "# 2. Create a new column(above_mean) with the boolean (\"TRUE\" or \"FALSE\")\n",
    "   - TRUE -> If the mean length of the individual is above the length mean of the dataset\n",
    "   - FALSE -> if not."
   ]
  },
  {
   "cell_type": "code",
   "execution_count": null,
   "metadata": {},
   "outputs": [],
   "source": [
    "m<-mean(data$length_mean)\n",
    "data$length_mean>m\n",
    "data$above_mean<-data$length_mean>m\n",
    "m\n",
    "head(data)"
   ]
  },
  {
   "cell_type": "markdown",
   "metadata": {},
   "source": [
    "# 3. Round all the numbers in your dataframe (data) to only 3 decimal values\n"
   ]
  },
  {
   "cell_type": "code",
   "execution_count": null,
   "metadata": {},
   "outputs": [],
   "source": [
    "data[,6]<-round(data[,6],3)\n",
    "head(data)"
   ]
  },
  {
   "cell_type": "markdown",
   "metadata": {},
   "source": [
    "4 Create a new column(cof_varience) with the cof_varience of the lengths of each individual\n",
    " - **Tip** -  you can use the apply and myCofV functions \n",
    " -  **P.S.** Don't for get to inport the second function from \"my-functions.R\" in the root folder \n"
   ]
  },
  {
   "cell_type": "code",
   "execution_count": null,
   "metadata": {},
   "outputs": [],
   "source": [
    "source(\"my-functions.R\")\n",
    "data$cof_varience<-apply(data[,2:4],1,myCofV)\n",
    "head(data)"
   ]
  },
  {
   "cell_type": "markdown",
   "metadata": {},
   "source": [
    "## Bonus answer \n",
    " (From previous 01-exercices)"
   ]
  },
  {
   "cell_type": "markdown",
   "metadata": {},
   "source": [
    "# 3. Generate random data so you can build a data frame with 40 entries with the following data for each entry: \n",
    " - gender male or female with 50% chance, \n",
    " - height (N(170,15) for males, N(165,18) for females.\n",
    " - Then select the bottom 25% of males by height.\n",
    " - Also select the second tallest woman.\n",
    "\n",
    "tip: help(sample); help(quantile)"
   ]
  },
  {
   "cell_type": "code",
   "execution_count": null,
   "metadata": {},
   "outputs": [],
   "source": [
    "#Generate the vector of 40 individuals with 50/50 change on gender\n",
    "genderVar<-sample(c(\"MALE\",\"FEMALE\"),40,replace=TRUE,prob=c(0.5,0.5))\n",
    "#Combine with a vector of zeros to make a matrix\n",
    "data<-cbind(Gender=genderVar,Height=rep(0,40))\n",
    "\n",
    "#Calculate the number of male/females\n",
    "num_females<-length(data[data[,1]==\"FEMALE\",1])\n",
    "num_males<-length(data[data[,1]==\"MALE\",1])\n",
    "\n",
    "#Generate the height distribution for each gender\n",
    "male_height<-rnorm(num_males,mean=170,sd=15)\n",
    "female_height<-rnorm(num_females,mean=160,sd=15)\n",
    "\n",
    "#identify the row that belong to each gender\n",
    "male_idx=data[,1]==\"MALE\"\n",
    "female_idx=data[,1]==\"FEMALE\"\n",
    "\n",
    "## To understand what is happening bellow. Check the state of the matrix before and after each of the folowing commands\n",
    "#replace the zeros with the heights\n",
    "data[male_idx,2]=male_height\n",
    "data[female_idx,2]=female_height\n",
    "data"
   ]
  },
  {
   "cell_type": "code",
   "execution_count": null,
   "metadata": {},
   "outputs": [],
   "source": []
  }
 ],
 "metadata": {
  "kernelspec": {
   "display_name": "R",
   "language": "R",
   "name": "ir"
  },
  "language_info": {
   "codemirror_mode": "r",
   "file_extension": ".r",
   "mimetype": "text/x-r-source",
   "name": "R",
   "pygments_lexer": "r",
   "version": "3.4.1"
  }
 },
 "nbformat": 4,
 "nbformat_minor": 2
}
