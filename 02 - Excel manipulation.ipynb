{
 "cells": [
  {
   "cell_type": "markdown",
   "metadata": {},
   "source": [
    "## Create a data frame from the csv file."
   ]
  },
  {
   "cell_type": "markdown",
   "metadata": {},
   "source": [
    "**read.table** - Reads a file in table format and creates a data frame from it, with cases corresponding to lines and variables to fields in the file."
   ]
  },
  {
   "cell_type": "markdown",
   "metadata": {},
   "source": [
    "### List of some arguments\n",
    "**read.table*(**file**, **header** = FALSE, **sep** = \",\", \n",
    "                **dec** = \".\", row.names, col.names,\n",
    "                **na.strings** = \"NA\", nrows = -1,\n",
    "                **skip** = 0, **comment.char** = \"#\", fileEncoding = \"\", encoding = \"unknown\")\n",
    "                \n",
    "                \n",
    "    file: the name of the file which the data are to be read from.\n",
    "          Each row of the table appears as one line of the file.  If it\n",
    "          does not contain an _absolute_ path, the file name is\n",
    "          _relative_ to the current working directory, ‘getwd()’.\n",
    "          Tilde-expansion is performed where supported.  This can be a\n",
    "          compressed file (see ‘file’).\n",
    "\n",
    "    header: a logical value indicating whether the file contains the\n",
    "          names of the variables as its first line.  If missing, the\n",
    "          value is determined from the file format: ‘header’ is set to\n",
    "          ‘TRUE’ if and only if the first row contains one fewer field\n",
    "          than the number of columns.\n",
    "          \n",
    "    sep: the field separator character.  Values on each line of the\n",
    "          file are separated by this character.  If ‘sep = \"\"’ (the\n",
    "          default for ‘read.table’) the separator is ‘white space’,\n",
    "          that is one or more spaces, tabs, newlines or carriage\n",
    "          returns.\n",
    "\n",
    "    quote: the set of quoting characters. To disable quoting altogether,\n",
    "          use ‘quote = \"\"’.  See ‘scan’ for the behaviour on quotes\n",
    "          embedded in quotes.  Quoting is only considered for columns\n",
    "          read as character, which is all of them unless ‘colClasses’\n",
    "          is specified.\n",
    "\n",
    "    dec: the character used in the file for decimal points.\n",
    "\n",
    "    numerals: string indicating how to convert numbers whose conversion to\n",
    "          double precision would lose accuracy, see ‘type.convert’.\n",
    "          Can be abbreviated.  (Applies also to complex-number inputs.)\n",
    "\n",
    "    row.names: a vector of row names.  This can be a vector giving the\n",
    "          actual row names, or a single number giving the column of the\n",
    "          table which contains the row names, or character string\n",
    "          giving the name of the table column containing the row names.\n",
    "\n",
    "          If there is a header and the first row contains one fewer\n",
    "          field than the number of columns, the first column in the\n",
    "          input is used for the row names.  Otherwise if ‘row.names’ is\n",
    "          missing, the rows are numbered.\n",
    "\n",
    "          Using ‘row.names = NULL’ forces row numbering. Missing or\n",
    "          ‘NULL’ ‘row.names’ generate row names that are considered to\n",
    "          be ‘automatic’ (and not preserved by ‘as.matrix’).\n",
    "\n",
    "    col.names: a vector of optional names for the variables.  The default\n",
    "          is to use ‘\"V\"’ followed by the column number.\n",
    "\n",
    "\n",
    "    nrows: integer: the maximum number of rows to read in.  Negative and\n",
    "          other invalid values are ignored.\n",
    "\n",
    "    skip: integer: the number of lines of the data file to skip before\n",
    "          beginning to read data.\n",
    "    \n",
    "    comment.char: character: a character vector of length one containing a\n",
    "          single character or an empty string.  Use ‘\"\"’ to turn off\n",
    "          the interpretation of comments altogether.\n",
    "\n",
    "    stringsAsFactors: logical: should character vectors be converted to\n",
    "          factors?  Note that this is overridden by ‘as.is’ and\n",
    "          ‘colClasses’, both of which allow finer control.\n",
    "\n",
    "    fileEncoding: character string: if non-empty declares the encoding used\n",
    "          on a file (not a connection) so the character data can be\n",
    "          re-encoded.  See the ‘Encoding’ section of the help for\n",
    "          ‘file’, the ‘R Data Import/Export Manual’ and ‘Note’.\n",
    "\n",
    "    encoding: encoding to be assumed for input strings.  It is used to mark\n",
    "          character strings as known to be in Latin-1 or UTF-8 (see\n",
    "          ‘Encoding’): it is not used to re-encode the input, but\n",
    "          allows R to handle encoded strings in their native encoding\n",
    "          (if one of those two).  See ‘Value’ and ‘Note’.\n",
    "\n",
    "    text: character string: if ‘file’ is not supplied and this is, then\n",
    "          data are read from the value of ‘text’ via a text connection.\n",
    "          Notice that a literal string can be used to include (small)\n",
    "          data sets within R code.\n",
    "\n",
    "    skipNul: logical: should nuls be skipped?\n",
    "\n",
    "-----------------------------------------------------------------------------------------------\n",
    "\n",
    "**read.table*(**file**, **header** = FALSE, **sep** = \",\", \n",
    "                **dec** = \".\", row.names, col.names,\n",
    "                **na.strings** = \"NA\", nrows = -1,\n",
    "                **skip** = 0, **comment.char** = \"#\", fileEncoding = \"\", encoding = \"unknown\")\n",
    "           "
   ]
  },
  {
   "cell_type": "code",
   "execution_count": null,
   "metadata": {},
   "outputs": [],
   "source": [
    "data<-read.table(\"data/root_length.csv\",sep=\";\",dec=\",\",header=TRUE)"
   ]
  },
  {
   "cell_type": "markdown",
   "metadata": {},
   "source": [
    "### General analysis of the data"
   ]
  },
  {
   "cell_type": "markdown",
   "metadata": {},
   "source": [
    "#### Head function\n",
    "Returns the first of a vector, matrix, table, data frame or function.\n",
    "\n",
    "#### Tail \n",
    "Returns the last parts of a vector, matrix, table , data frame or function"
   ]
  },
  {
   "cell_type": "code",
   "execution_count": null,
   "metadata": {},
   "outputs": [],
   "source": [
    "head(data)\n",
    "tail(data)"
   ]
  },
  {
   "cell_type": "markdown",
   "metadata": {},
   "source": [
    "#### Summary function \n",
    " **summary** is a generic function used to produce result summaries."
   ]
  },
  {
   "cell_type": "code",
   "execution_count": null,
   "metadata": {},
   "outputs": [],
   "source": [
    "summary(data)"
   ]
  },
  {
   "cell_type": "markdown",
   "metadata": {},
   "source": [
    "#### Table function\n",
    "**table** uses the cross-classifying factors to build a contingency\n",
    "     table of the counts at each combination of factor levels.\n",
    "     \n",
    "*Let's show it for the number of lateral roots*"
   ]
  },
  {
   "cell_type": "code",
   "execution_count": null,
   "metadata": {},
   "outputs": [],
   "source": [
    "table(data$Lat_roots)"
   ]
  },
  {
   "cell_type": "markdown",
   "metadata": {},
   "source": [
    "#### Hist function\n",
    "The generic function **hist** computes a histogram of the given data values.\n",
    "\n",
    "You can define the number of breaks\n",
    "\n",
    "    breaks: one of:\n",
    "\n",
    "            • a vector giving the breakpoints between histogram cells,\n",
    "\n",
    "            • a function to compute the vector of breakpoints,\n",
    "\n",
    "            • a single number giving the number of cells for the\n",
    "              histogram,\n",
    "\n",
    "            • a character string naming an algorithm to compute the\n",
    "              number of cells (see ‘Details’),\n",
    "\n",
    "            • a function to compute the number of cells.\n",
    "\n",
    "          In the last three cases the number is a suggestion only; as\n",
    "          the breakpoints will be set to ‘pretty’ values, the number is\n",
    "          limited to ‘1e6’ (with a warning if it was larger).  If\n",
    "          ‘breaks’ is a function, the ‘x’ vector is supplied to it as\n",
    "          the only argument (and the number of breaks is only limited\n",
    "          by the amount of available memory).\n",
    "\n",
    "*We will define explictly to have a break for each value in the contingency table.*"
   ]
  },
  {
   "cell_type": "code",
   "execution_count": null,
   "metadata": {},
   "outputs": [],
   "source": [
    "num_of_breaks<-length(table(data$Lat_roots))\n",
    "cat(\"# of breaks:\",num_of_breaks)\n",
    "\n",
    "table(data$Lat_roots)\n",
    "hist(data$Lat_roots,breaks = num_of_breaks)\n"
   ]
  },
  {
   "cell_type": "markdown",
   "metadata": {},
   "source": [
    "#### Simple pie plot \n",
    "    pie(x, labels = names(x), edges = 200, radius = 0.8,\n",
    "             clockwise = FALSE, init.angle = if(clockwise) 90 else 0,\n",
    "             density = NULL, angle = 45, col = NULL, border = NULL,\n",
    "             lty = NULL, main = NULL, ...)\n",
    "             \n",
    "We create a new variable called data.group and \"cut\" into the levels given in the vector\n",
    "\n",
    "    cut(x, breaks, labels = NULL,\n",
    "         include.lowest = FALSE, right = TRUE, dig.lab = 3,\n",
    "         ordered_result = FALSE, ...)\n",
    "    \n",
    "       x: a numeric vector which is to be converted to a factor by\n",
    "          cutting.\n",
    "\n",
    "       breaks: either a numeric vector of two or more unique cut points or a\n",
    "          single number (greater than or equal to 2) giving the number\n",
    "          of intervals into which ‘x’ is to be cut.\n",
    "\n",
    "       labels: labels for the levels of the resulting category.  By default,\n",
    "          labels are constructed using ‘\"(a,b]\"’ interval notation.  If\n",
    "          ‘labels = FALSE’, simple integer codes are returned instead\n",
    "          of a factor.\n",
    "\n"
   ]
  },
  {
   "cell_type": "code",
   "execution_count": null,
   "metadata": {},
   "outputs": [],
   "source": [
    "LEVELS=c(0,5,10,100)\n",
    "\n",
    "data.group <- cut( \n",
    "\tdata$Lat_roots, \n",
    "\tLEVELS) \n",
    "data.group\n",
    "\n",
    "data.contingency_table <- table(data.group)\n",
    "data.contingency_table\n",
    "\n",
    "pie(data.contingency_table)"
   ]
  },
  {
   "cell_type": "markdown",
   "metadata": {},
   "source": [
    "## Manipulating the imported data frame"
   ]
  },
  {
   "cell_type": "markdown",
   "metadata": {},
   "source": [
    "### Create a column called lateralization_factor based on the \"cuts\" of lateral_roots"
   ]
  },
  {
   "cell_type": "code",
   "execution_count": null,
   "metadata": {},
   "outputs": [],
   "source": [
    "LEVELS=c(0,5,10,20)\n",
    "LABELS=c(\"Low\",\"Medium\",\"High\")\n",
    "\n",
    "data$lateralization_factor <- factor( \n",
    "\tcut( data$Lat_roots, LEVELS ), \n",
    "\tlabels=LABELS\n",
    ");"
   ]
  },
  {
   "cell_type": "markdown",
   "metadata": {},
   "source": [
    "#### Showing the result"
   ]
  },
  {
   "cell_type": "code",
   "execution_count": null,
   "metadata": {},
   "outputs": [],
   "source": [
    "head(data)"
   ]
  },
  {
   "cell_type": "markdown",
   "metadata": {},
   "source": [
    "### Calculating the mean of length per row"
   ]
  },
  {
   "cell_type": "code",
   "execution_count": null,
   "metadata": {},
   "outputs": [],
   "source": [
    "data$length_mean <- rowMeans(data[,2:4])"
   ]
  },
  {
   "cell_type": "code",
   "execution_count": null,
   "metadata": {},
   "outputs": [],
   "source": [
    "head(data)"
   ]
  },
  {
   "cell_type": "markdown",
   "metadata": {},
   "source": [
    "### Adding a column with the standard deviation\n",
    "\n",
    "sd(x) calculates the standard deviation of the given vector x\n",
    "\n",
    "Since we had a matrix of data and we want to apply **sd()** to each row we mas use **apply()**\n",
    "\n",
    "#### Function apply()\n",
    "    \n",
    "     Returns a vector or array or list of values obtained by applying a\n",
    "     function to margins of an array or matrix.\n",
    "\n",
    "Usage:\n",
    "\n",
    "     apply(X, MARGIN, FUN, ...)\n",
    "     \n",
    "Arguments:\n",
    "\n",
    "       X: an array, including a matrix.\n",
    "\n",
    "    MARGIN: a vector giving the subscripts which the function will be\n",
    "          applied over.  E.g., for a matrix ‘1’ indicates rows, ‘2’\n",
    "          indicates columns, ‘c(1, 2)’ indicates rows and columns.\n",
    "          Where ‘X’ has named dimnames, it can be a character vector\n",
    "          selecting dimension names.\n",
    "\n",
    "     FUN: the function to be applied: see ‘Details’.  In the case of\n",
    "          functions like ‘+’, ‘%*%’, etc., the function name must be\n",
    "          backquoted or quoted.\n",
    "\n",
    "     ...: optional arguments to ‘FUN’.\n",
    "\n"
   ]
  },
  {
   "cell_type": "markdown",
   "metadata": {},
   "source": [
    "#### So we use: \n",
    "    \n",
    "    x: the matrix data[,2:4]\n",
    "    \n",
    "    Margin: Since we want to apply to each row '1'\n",
    "    \n",
    "    FUN: The function we want to apply is 'sd'\n"
   ]
  },
  {
   "cell_type": "code",
   "execution_count": null,
   "metadata": {},
   "outputs": [],
   "source": [
    "data$sd<-apply(data[,2:4],1, sd)"
   ]
  },
  {
   "cell_type": "code",
   "execution_count": null,
   "metadata": {},
   "outputs": [],
   "source": [
    "head(data)"
   ]
  },
  {
   "cell_type": "markdown",
   "metadata": {},
   "source": [
    "### Saving the data frame to a file that can be imported in excel\n",
    "**write.csv** prints its required argument ‘x’ (after converting it to a data frame if it is not one nor a matrix) to a file or connection.\n",
    "\n",
    "**write.csv()** is a shortcut to **write.table()** with **dec**,**sep** hardcoded\n",
    "\n",
    "**write.table**(**x**, **file** = \"\", **append** = FALSE, **quote** = TRUE, **sep** = \",\",\n",
    "                 **eol** = \"\\n\", **na** = \"NA\", **dec** = \".\", **row.names** = TRUE,\n",
    "                 **col.names** = TRUE, **fileEncoding** = \"\")\n",
    "                 \n",
    "    x: the object to be written, preferably a matrix or data frame.\n",
    "          If not, it is attempted to coerce ‘x’ to a data frame.\n",
    " \n",
    "    file: either a character string naming a file or a connection open\n",
    "          for writing.  ‘\"\"’ indicates output to the console.\n",
    "\n",
    "    append: logical. Only relevant if ‘file’ is a character string.  If\n",
    "          ‘TRUE’, the output is appended to the file.  If ‘FALSE’, any\n",
    "          existing file of the name is destroyed.\n",
    "\n",
    "    quote: a logical value (‘TRUE’ or ‘FALSE’) or a numeric vector.  If\n",
    "          ‘TRUE’, any character or factor columns will be surrounded by\n",
    "          double quotes.  If a numeric vector, its elements are taken\n",
    "          as the indices of columns to quote.  In both cases, row and\n",
    "          column names are quoted if they are written.  If ‘FALSE’,\n",
    "          nothing is quoted.\n",
    "\n",
    "     sep: the field separator string.  Values within each row of ‘x’\n",
    "          are separated by this string.\n",
    "\n",
    "     eol: the character(s) to print at the end of each line (row).  For\n",
    "          example, ‘eol = \"\\r\\n\"’ will produce Windows' line endings on\n",
    "          a Unix-alike OS, and ‘eol = \"\\r\"’ will produce files as\n",
    "          expected by Excel:mac 2004.\n",
    "\n",
    "      na: the string to use for missing values in the data.\n",
    "\n",
    "     dec: the string to use for decimal points in numeric or complex\n",
    "          columns: must be a single character.\n",
    "\n",
    "    row.names: either a logical value indicating whether the row names of\n",
    "          ‘x’ are to be written along with ‘x’, or a character vector\n",
    "          of row names to be written.\n",
    "\n",
    "    col.names: either a logical value indicating whether the column names\n",
    "          of ‘x’ are to be written along with ‘x’, or a character\n",
    "          vector of column names to be written.  See the section on\n",
    "          ‘CSV files’ for the meaning of ‘col.names = NA’.\n",
    "\n",
    "    fileEncoding: character string: if non-empty declares the encoding to\n",
    "          be used on a file (not a connection) so the character data\n",
    "          can be re-encoded as they are written.  See ‘file’.\n"
   ]
  },
  {
   "cell_type": "code",
   "execution_count": null,
   "metadata": {},
   "outputs": [],
   "source": [
    "#write.csv(data,file=\"data/new_root_length.csv\")"
   ]
  },
  {
   "cell_type": "markdown",
   "metadata": {},
   "source": [
    "# Exercices"
   ]
  },
  {
   "cell_type": "markdown",
   "metadata": {},
   "source": [
    "1. Create a new column(lat_roots_factorized) with the factors \"CLOSE_TO_NONE\", \"SLIGHTLY\", \"SO_SO\", \"SOME_WHAT\", \"MOSTLY\" applied to the number of lateral roots. "
   ]
  },
  {
   "cell_type": "code",
   "execution_count": null,
   "metadata": {},
   "outputs": [],
   "source": []
  },
  {
   "cell_type": "markdown",
   "metadata": {},
   "source": [
    "2. Create a new column(above_mean) with the boolean (\"TRUE\" or \"FALSE\")\n",
    "   - TRUE -> If the mean length of the individual is above the length mean of the dataset\n",
    "   - FALSE -> if not."
   ]
  },
  {
   "cell_type": "code",
   "execution_count": null,
   "metadata": {},
   "outputs": [],
   "source": []
  },
  {
   "cell_type": "markdown",
   "metadata": {},
   "source": [
    "   3. Round all the numbers in your dataframe (data) to only 3 decimal values"
   ]
  },
  {
   "cell_type": "code",
   "execution_count": null,
   "metadata": {},
   "outputs": [],
   "source": []
  },
  {
   "cell_type": "markdown",
   "metadata": {},
   "source": [
    "4 Create a new column(cof_varience) with the cof_varience of the lengths of each individual\n",
    " - **Tip** -  you can use the apply and myCofV functions \n",
    " -  **P.S.** Don't for get to inport the second function from \"my-functions.R\" in the root folder "
   ]
  },
  {
   "cell_type": "code",
   "execution_count": null,
   "metadata": {},
   "outputs": [],
   "source": []
  }
 ],
 "metadata": {
  "kernelspec": {
   "display_name": "R",
   "language": "R",
   "name": "ir"
  }
 },
 "nbformat": 4,
 "nbformat_minor": 2
}
