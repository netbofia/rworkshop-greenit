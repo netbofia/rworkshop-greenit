{
 "cells": [
  {
   "cell_type": "markdown",
   "metadata": {},
   "source": [
    "## Create a data frame from the csv file."
   ]
  },
  {
   "cell_type": "markdown",
   "metadata": {},
   "source": [
    "**read.table** - Reads a file in table format and creates a data frame from it, with cases corresponding to lines and variables to fields in the file."
   ]
  },
  {
   "cell_type": "markdown",
   "metadata": {},
   "source": [
    "### List of some arguments\n",
    "**read.table*(**file**, **header** = FALSE, **sep** = \",\", \n",
    "                **dec** = \".\", **row.names**, **col.names**,\n",
    "                **na.strings** = \"NA\", **nrows** = -1,\n",
    "                **skip** = 0, **comment.char** = \"#\", fileEncoding = \"\", encoding = \"unknown\")"
   ]
  },
  {
   "cell_type": "code",
   "execution_count": null,
   "metadata": {},
   "outputs": [],
   "source": [
    "data<-read.csv(\"data/root_length.csv\",sep=\";\",dec=\",\")"
   ]
  },
  {
   "cell_type": "markdown",
   "metadata": {},
   "source": [
    "### General analysis do the data"
   ]
  },
  {
   "cell_type": "markdown",
   "metadata": {},
   "source": [
    "#### Head function\n",
    "Returns the first or last parts of a vector, matrix, table, data frame or function."
   ]
  },
  {
   "cell_type": "code",
   "execution_count": null,
   "metadata": {},
   "outputs": [],
   "source": [
    "head(data)\n",
    "tail(data)"
   ]
  },
  {
   "cell_type": "markdown",
   "metadata": {},
   "source": [
    "#### Summary function \n",
    " **summary** is a generic function used to produce result summaries."
   ]
  },
  {
   "cell_type": "code",
   "execution_count": null,
   "metadata": {},
   "outputs": [],
   "source": [
    "summary(data)"
   ]
  },
  {
   "cell_type": "markdown",
   "metadata": {},
   "source": [
    "#### Table function\n",
    "**table** uses the cross-classifying factors to build a contingency\n",
    "     table of the counts at each combination of factor levels."
   ]
  },
  {
   "cell_type": "code",
   "execution_count": null,
   "metadata": {},
   "outputs": [],
   "source": [
    "table(data$Lat_roots)"
   ]
  },
  {
   "cell_type": "markdown",
   "metadata": {},
   "source": [
    "#### Hist function\n",
    "The generic function **hist** computes a histogram of the given data values."
   ]
  },
  {
   "cell_type": "code",
   "execution_count": null,
   "metadata": {},
   "outputs": [],
   "source": [
    "num_of_breaks=length(table(data$Lat_roots))\n",
    "hist(data$Lat_roots,breaks = 10 )"
   ]
  },
  {
   "cell_type": "markdown",
   "metadata": {},
   "source": [
    "#### Simple pie plot \n",
    "We create a new variable called data.group and \"cut\" into the levels given in the vector"
   ]
  },
  {
   "cell_type": "code",
   "execution_count": null,
   "metadata": {},
   "outputs": [],
   "source": [
    "data.group <- cut( \n",
    "\tdata$Lat_roots, \n",
    "\tc(0,5,10,100)) \n",
    "pie(table(data.group))"
   ]
  },
  {
   "cell_type": "markdown",
   "metadata": {},
   "source": [
    "## Manipulating the imported data frame"
   ]
  },
  {
   "cell_type": "markdown",
   "metadata": {},
   "source": [
    "### Create a column called lateralization_factor based on the \"cuts\" of lateral_roots"
   ]
  },
  {
   "cell_type": "code",
   "execution_count": null,
   "metadata": {},
   "outputs": [],
   "source": [
    "data$lateralization_factor <- factor( \n",
    "\tcut( data$Lat_roots, c(0,5,10,20) ), \n",
    "\tlabels=c(\"Low\",\"Medium\",\"High\")\n",
    ");"
   ]
  },
  {
   "cell_type": "markdown",
   "metadata": {},
   "source": [
    "#### Showing the result"
   ]
  },
  {
   "cell_type": "code",
   "execution_count": null,
   "metadata": {},
   "outputs": [],
   "source": [
    "data$lateralization\n",
    "head(data)"
   ]
  },
  {
   "cell_type": "markdown",
   "metadata": {},
   "source": [
    "### Calculating the mean of length per row"
   ]
  },
  {
   "cell_type": "code",
   "execution_count": null,
   "metadata": {},
   "outputs": [],
   "source": [
    "data$length_mean <- rowMeans(data[,2:4])"
   ]
  },
  {
   "cell_type": "code",
   "execution_count": null,
   "metadata": {},
   "outputs": [],
   "source": [
    "head(data)"
   ]
  },
  {
   "cell_type": "markdown",
   "metadata": {},
   "source": [
    "### Adding a column with the standard deviation\n",
    "\n",
    "sd(x) calculates the standard deviation of the given vector x\n",
    "\n",
    "Since we had a matrix of data and we want to apply **sd()** to each row we mas use **apply()**\n",
    "\n",
    "#### Function apply()\n",
    "    \n",
    "     Returns a vector or array or list of values obtained by applying a\n",
    "     function to margins of an array or matrix.\n",
    "\n",
    "Usage:\n",
    "\n",
    "     apply(X, MARGIN, FUN, ...)\n",
    "     \n",
    "Arguments:\n",
    "\n",
    "       X: an array, including a matrix.\n",
    "\n",
    "    MARGIN: a vector giving the subscripts which the function will be\n",
    "          applied over.  E.g., for a matrix ‘1’ indicates rows, ‘2’\n",
    "          indicates columns, ‘c(1, 2)’ indicates rows and columns.\n",
    "          Where ‘X’ has named dimnames, it can be a character vector\n",
    "          selecting dimension names.\n",
    "\n",
    "     FUN: the function to be applied: see ‘Details’.  In the case of\n",
    "          functions like ‘+’, ‘%*%’, etc., the function name must be\n",
    "          backquoted or quoted.\n",
    "\n",
    "     ...: optional arguments to ‘FUN’.\n",
    "\n"
   ]
  },
  {
   "cell_type": "markdown",
   "metadata": {},
   "source": [
    "#### So we use: \n",
    "    \n",
    "    x: the matrix data[,3:5]\n",
    "    \n",
    "    Margin: Since we want to apply to each row '1'\n",
    "    \n",
    "    FUN: The function we want to apply is 'sd'\n"
   ]
  },
  {
   "cell_type": "code",
   "execution_count": null,
   "metadata": {},
   "outputs": [],
   "source": [
    "data$sd<-apply(data[,3:5],1, sd)"
   ]
  },
  {
   "cell_type": "code",
   "execution_count": null,
   "metadata": {},
   "outputs": [],
   "source": [
    "head(data)"
   ]
  },
  {
   "cell_type": "markdown",
   "metadata": {},
   "source": [
    "### Saving the data frame to a file that can be imported in excel\n",
    "**write.csv** prints its required argument ‘x’ (after converting it to a data frame if it is not one nor a matrix) to a file or connection.\n",
    "\n",
    "**write.csv()** is a shortcut to **write.table()** with **dec**,**sep** hardcoded\n",
    "\n",
    "**write.table**(**x**, **file** = \"\", **append** = FALSE, **quote** = TRUE, **sep** = \",\",\n",
    "                 **eol** = \"\\n\", **na** = \"NA\", **dec** = \".\", **row.names** = TRUE,\n",
    "                 **col.names** = TRUE, **fileEncoding** = \"\")\n",
    "                 \n",
    "    x: the object to be written, preferably a matrix or data frame.\n",
    "          If not, it is attempted to coerce ‘x’ to a data frame.\n",
    " \n",
    "    file: either a character string naming a file or a connection open\n",
    "          for writing.  ‘\"\"’ indicates output to the console.\n",
    "\n",
    "    append: logical. Only relevant if ‘file’ is a character string.  If\n",
    "          ‘TRUE’, the output is appended to the file.  If ‘FALSE’, any\n",
    "          existing file of the name is destroyed.\n",
    "\n",
    "    quote: a logical value (‘TRUE’ or ‘FALSE’) or a numeric vector.  If\n",
    "          ‘TRUE’, any character or factor columns will be surrounded by\n",
    "          double quotes.  If a numeric vector, its elements are taken\n",
    "          as the indices of columns to quote.  In both cases, row and\n",
    "          column names are quoted if they are written.  If ‘FALSE’,\n",
    "          nothing is quoted.\n",
    "\n",
    "     sep: the field separator string.  Values within each row of ‘x’\n",
    "          are separated by this string.\n",
    "\n",
    "     eol: the character(s) to print at the end of each line (row).  For\n",
    "          example, ‘eol = \"\\r\\n\"’ will produce Windows' line endings on\n",
    "          a Unix-alike OS, and ‘eol = \"\\r\"’ will produce files as\n",
    "          expected by Excel:mac 2004.\n",
    "\n",
    "      na: the string to use for missing values in the data.\n",
    "\n",
    "     dec: the string to use for decimal points in numeric or complex\n",
    "          columns: must be a single character.\n",
    "\n",
    "    row.names: either a logical value indicating whether the row names of\n",
    "          ‘x’ are to be written along with ‘x’, or a character vector\n",
    "          of row names to be written.\n",
    "\n",
    "    col.names: either a logical value indicating whether the column names\n",
    "          of ‘x’ are to be written along with ‘x’, or a character\n",
    "          vector of column names to be written.  See the section on\n",
    "          ‘CSV files’ for the meaning of ‘col.names = NA’.\n",
    "\n",
    "    fileEncoding: character string: if non-empty declares the encoding to\n",
    "          be used on a file (not a connection) so the character data\n",
    "          can be re-encoded as they are written.  See ‘file’.\n"
   ]
  },
  {
   "cell_type": "code",
   "execution_count": null,
   "metadata": {},
   "outputs": [],
   "source": [
    "#write.csv(data,file=\"data/new_root_length.csv\")"
   ]
  }
 ],
 "metadata": {
  "kernelspec": {
   "display_name": "R",
   "language": "R",
   "name": "ir"
  },
  "language_info": {
   "codemirror_mode": "r",
   "file_extension": ".r",
   "mimetype": "text/x-r-source",
   "name": "R",
   "pygments_lexer": "r",
   "version": "3.4.1"
  }
 },
 "nbformat": 4,
 "nbformat_minor": 2
}
